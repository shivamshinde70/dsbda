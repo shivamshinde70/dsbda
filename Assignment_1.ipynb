{
  "cells": [
    {
      "cell_type": "markdown",
      "metadata": {
        "id": "view-in-github",
        "colab_type": "text"
      },
      "source": [
        "<a href=\"https://colab.research.google.com/github/shivamshinde70/dsbda/blob/main/Assignment_1.ipynb\" target=\"_parent\"><img src=\"https://colab.research.google.com/assets/colab-badge.svg\" alt=\"Open In Colab\"/></a>"
      ]
    },
    {
      "cell_type": "code",
      "execution_count": null,
      "id": "f99b37ac",
      "metadata": {
        "id": "f99b37ac"
      },
      "outputs": [],
      "source": [
        "import pandas as pd"
      ]
    },
    {
      "cell_type": "code",
      "execution_count": null,
      "id": "2003182c",
      "metadata": {
        "id": "2003182c",
        "outputId": "b873fc7a-a7d2-4635-a0a5-107595bfbd3f"
      },
      "outputs": [
        {
          "data": {
            "text/html": [
              "<div>\n",
              "<style scoped>\n",
              "    .dataframe tbody tr th:only-of-type {\n",
              "        vertical-align: middle;\n",
              "    }\n",
              "\n",
              "    .dataframe tbody tr th {\n",
              "        vertical-align: top;\n",
              "    }\n",
              "\n",
              "    .dataframe thead th {\n",
              "        text-align: right;\n",
              "    }\n",
              "</style>\n",
              "<table border=\"1\" class=\"dataframe\">\n",
              "  <thead>\n",
              "    <tr style=\"text-align: right;\">\n",
              "      <th></th>\n",
              "      <th>Page total likes;Type;Category;Post Month;Post Weekday;Post Hour;Paid;Lifetime Post Total Reach;Lifetime Post Total Impressions;Lifetime Engaged Users;Lifetime Post Consumers;Lifetime Post Consumptions;Lifetime Post Impressions by people who have liked your Page;Lifetime Post reach by people who like your Page;Lifetime People who have liked your Page and engaged with your post;comment;like;share;Total Interactions</th>\n",
              "    </tr>\n",
              "  </thead>\n",
              "  <tbody>\n",
              "    <tr>\n",
              "      <th>0</th>\n",
              "      <td>139441;Photo;2;12;4;3;0;2752;5091;178;109;159;...</td>\n",
              "    </tr>\n",
              "    <tr>\n",
              "      <th>1</th>\n",
              "      <td>139441;Status;2;12;3;10;0;10460;19057;1457;136...</td>\n",
              "    </tr>\n",
              "    <tr>\n",
              "      <th>2</th>\n",
              "      <td>139441;Photo;3;12;3;3;0;2413;4373;177;113;154;...</td>\n",
              "    </tr>\n",
              "    <tr>\n",
              "      <th>3</th>\n",
              "      <td>139441;Photo;2;12;2;10;1;50128;87991;2211;790;...</td>\n",
              "    </tr>\n",
              "    <tr>\n",
              "      <th>4</th>\n",
              "      <td>139441;Photo;2;12;2;3;0;7244;13594;671;410;580...</td>\n",
              "    </tr>\n",
              "    <tr>\n",
              "      <th>...</th>\n",
              "      <td>...</td>\n",
              "    </tr>\n",
              "    <tr>\n",
              "      <th>495</th>\n",
              "      <td>85093;Photo;3;1;7;2;0;4684;7536;733;708;985;47...</td>\n",
              "    </tr>\n",
              "    <tr>\n",
              "      <th>496</th>\n",
              "      <td>81370;Photo;2;1;5;8;0;3480;6229;537;508;687;39...</td>\n",
              "    </tr>\n",
              "    <tr>\n",
              "      <th>497</th>\n",
              "      <td>81370;Photo;1;1;5;2;0;3778;7216;625;572;795;47...</td>\n",
              "    </tr>\n",
              "    <tr>\n",
              "      <th>498</th>\n",
              "      <td>81370;Photo;3;1;4;11;0;4156;7564;626;574;832;4...</td>\n",
              "    </tr>\n",
              "    <tr>\n",
              "      <th>499</th>\n",
              "      <td>81370;Photo;2;1;4;4;;4188;7292;564;524;743;386...</td>\n",
              "    </tr>\n",
              "  </tbody>\n",
              "</table>\n",
              "<p>500 rows × 1 columns</p>\n",
              "</div>"
            ],
            "text/plain": [
              "    Page total likes;Type;Category;Post Month;Post Weekday;Post Hour;Paid;Lifetime Post Total Reach;Lifetime Post Total Impressions;Lifetime Engaged Users;Lifetime Post Consumers;Lifetime Post Consumptions;Lifetime Post Impressions by people who have liked your Page;Lifetime Post reach by people who like your Page;Lifetime People who have liked your Page and engaged with your post;comment;like;share;Total Interactions\n",
              "0    139441;Photo;2;12;4;3;0;2752;5091;178;109;159;...                                                                                                                                                                                                                                                                                                                                                                               \n",
              "1    139441;Status;2;12;3;10;0;10460;19057;1457;136...                                                                                                                                                                                                                                                                                                                                                                               \n",
              "2    139441;Photo;3;12;3;3;0;2413;4373;177;113;154;...                                                                                                                                                                                                                                                                                                                                                                               \n",
              "3    139441;Photo;2;12;2;10;1;50128;87991;2211;790;...                                                                                                                                                                                                                                                                                                                                                                               \n",
              "4    139441;Photo;2;12;2;3;0;7244;13594;671;410;580...                                                                                                                                                                                                                                                                                                                                                                               \n",
              "..                                                 ...                                                                                                                                                                                                                                                                                                                                                                               \n",
              "495  85093;Photo;3;1;7;2;0;4684;7536;733;708;985;47...                                                                                                                                                                                                                                                                                                                                                                               \n",
              "496  81370;Photo;2;1;5;8;0;3480;6229;537;508;687;39...                                                                                                                                                                                                                                                                                                                                                                               \n",
              "497  81370;Photo;1;1;5;2;0;3778;7216;625;572;795;47...                                                                                                                                                                                                                                                                                                                                                                               \n",
              "498  81370;Photo;3;1;4;11;0;4156;7564;626;574;832;4...                                                                                                                                                                                                                                                                                                                                                                               \n",
              "499  81370;Photo;2;1;4;4;;4188;7292;564;524;743;386...                                                                                                                                                                                                                                                                                                                                                                               \n",
              "\n",
              "[500 rows x 1 columns]"
            ]
          },
          "execution_count": 3,
          "metadata": {},
          "output_type": "execute_result"
        }
      ],
      "source": [
        "df = pd.read_csv(\"dataset_Facebook.csv\")\n",
        "df"
      ]
    },
    {
      "cell_type": "code",
      "execution_count": null,
      "id": "e13e6692",
      "metadata": {
        "id": "e13e6692",
        "outputId": "2f00ecdc-5fee-47e2-f16d-09b4c0dfbc30"
      },
      "outputs": [
        {
          "data": {
            "text/plain": [
              "(99003, 15)"
            ]
          },
          "execution_count": 4,
          "metadata": {},
          "output_type": "execute_result"
        }
      ],
      "source": [
        "df.shape"
      ]
    },
    {
      "cell_type": "code",
      "execution_count": null,
      "id": "8ec30ffc",
      "metadata": {
        "id": "8ec30ffc"
      },
      "outputs": [],
      "source": [
        "dataset1 = df.head(10)"
      ]
    },
    {
      "cell_type": "code",
      "execution_count": null,
      "id": "3363c38a",
      "metadata": {
        "id": "3363c38a",
        "outputId": "62ddbd6d-4317-4417-e7d6-33d025333908"
      },
      "outputs": [
        {
          "name": "stdout",
          "output_type": "stream",
          "text": [
            "    userid  age  dob_day  dob_year  dob_month  gender  tenure  friend_count  \\\n",
            "0  2094382   14       19      1999         11    male   266.0             0   \n",
            "1  1192601   14        2      1999         11  female     6.0             0   \n",
            "2  2083884   14       16      1999         11    male    13.0             0   \n",
            "3  1203168   14       25      1999         12  female    93.0             0   \n",
            "4  1733186   14        4      1999         12    male    82.0             0   \n",
            "5  1524765   14        1      1999         12    male    15.0             0   \n",
            "6  1136133   13       14      2000          1    male    12.0             0   \n",
            "7  1680361   13        4      2000          1  female     0.0             0   \n",
            "8  1365174   13        1      2000          1    male    81.0             0   \n",
            "9  1712567   13        2      2000          2    male   171.0             0   \n",
            "\n",
            "   friendships_initiated  likes  likes_received  mobile_likes  \\\n",
            "0                      0      0               0             0   \n",
            "1                      0      0               0             0   \n",
            "2                      0      0               0             0   \n",
            "3                      0      0               0             0   \n",
            "4                      0      0               0             0   \n",
            "5                      0      0               0             0   \n",
            "6                      0      0               0             0   \n",
            "7                      0      0               0             0   \n",
            "8                      0      0               0             0   \n",
            "9                      0      0               0             0   \n",
            "\n",
            "   mobile_likes_received  www_likes  www_likes_received  \n",
            "0                      0          0                   0  \n",
            "1                      0          0                   0  \n",
            "2                      0          0                   0  \n",
            "3                      0          0                   0  \n",
            "4                      0          0                   0  \n",
            "5                      0          0                   0  \n",
            "6                      0          0                   0  \n",
            "7                      0          0                   0  \n",
            "8                      0          0                   0  \n",
            "9                      0          0                   0  \n"
          ]
        }
      ],
      "source": [
        "print(dataset1)"
      ]
    },
    {
      "cell_type": "code",
      "execution_count": null,
      "id": "d8298fe3",
      "metadata": {
        "id": "d8298fe3"
      },
      "outputs": [],
      "source": [
        "dataset2 = df.iloc[[2,9,15,25]]"
      ]
    },
    {
      "cell_type": "code",
      "execution_count": null,
      "id": "df30d5c5",
      "metadata": {
        "id": "df30d5c5",
        "outputId": "20bf5634-178a-4197-99fa-3f6610751b24"
      },
      "outputs": [
        {
          "name": "stdout",
          "output_type": "stream",
          "text": [
            "     userid  age  dob_day  dob_year  dob_month  gender  tenure  friend_count  \\\n",
            "2   2083884   14       16      1999         11    male    13.0             0   \n",
            "9   1712567   13        2      2000          2    male   171.0             0   \n",
            "15  1751722   13        7      2000          4  female    16.0             0   \n",
            "25  1001243   15       11      1998         11    male    28.0             0   \n",
            "\n",
            "    friendships_initiated  likes  likes_received  mobile_likes  \\\n",
            "2                       0      0               0             0   \n",
            "9                       0      0               0             0   \n",
            "15                      0      0               0             0   \n",
            "25                      0      0               0             0   \n",
            "\n",
            "    mobile_likes_received  www_likes  www_likes_received  \n",
            "2                       0          0                   0  \n",
            "9                       0          0                   0  \n",
            "15                      0          0                   0  \n",
            "25                      0          0                   0  \n"
          ]
        }
      ],
      "source": [
        "print(dataset2)"
      ]
    },
    {
      "cell_type": "code",
      "execution_count": null,
      "id": "4fe322a3",
      "metadata": {
        "id": "4fe322a3"
      },
      "outputs": [],
      "source": [
        "dataset3 = df.loc[0 : 4 ,[\"age\",\"dob_day\"] ]"
      ]
    },
    {
      "cell_type": "code",
      "execution_count": null,
      "id": "e4bb1ffb",
      "metadata": {
        "id": "e4bb1ffb",
        "outputId": "efb684e8-63e1-41f9-9de7-63d57d6f4269"
      },
      "outputs": [
        {
          "data": {
            "text/html": [
              "<div>\n",
              "<style scoped>\n",
              "    .dataframe tbody tr th:only-of-type {\n",
              "        vertical-align: middle;\n",
              "    }\n",
              "\n",
              "    .dataframe tbody tr th {\n",
              "        vertical-align: top;\n",
              "    }\n",
              "\n",
              "    .dataframe thead th {\n",
              "        text-align: right;\n",
              "    }\n",
              "</style>\n",
              "<table border=\"1\" class=\"dataframe\">\n",
              "  <thead>\n",
              "    <tr style=\"text-align: right;\">\n",
              "      <th></th>\n",
              "      <th>age</th>\n",
              "      <th>dob_day</th>\n",
              "    </tr>\n",
              "  </thead>\n",
              "  <tbody>\n",
              "    <tr>\n",
              "      <th>0</th>\n",
              "      <td>14</td>\n",
              "      <td>19</td>\n",
              "    </tr>\n",
              "    <tr>\n",
              "      <th>1</th>\n",
              "      <td>14</td>\n",
              "      <td>2</td>\n",
              "    </tr>\n",
              "    <tr>\n",
              "      <th>2</th>\n",
              "      <td>14</td>\n",
              "      <td>16</td>\n",
              "    </tr>\n",
              "    <tr>\n",
              "      <th>3</th>\n",
              "      <td>14</td>\n",
              "      <td>25</td>\n",
              "    </tr>\n",
              "    <tr>\n",
              "      <th>4</th>\n",
              "      <td>14</td>\n",
              "      <td>4</td>\n",
              "    </tr>\n",
              "  </tbody>\n",
              "</table>\n",
              "</div>"
            ],
            "text/plain": [
              "   age  dob_day\n",
              "0   14       19\n",
              "1   14        2\n",
              "2   14       16\n",
              "3   14       25\n",
              "4   14        4"
            ]
          },
          "execution_count": 10,
          "metadata": {},
          "output_type": "execute_result"
        }
      ],
      "source": []
    },
    {
      "cell_type": "code",
      "execution_count": null,
      "id": "98fa01e1",
      "metadata": {
        "id": "98fa01e1"
      },
      "outputs": [],
      "source": [
        "dataset2 = df.iloc[[3,5,9,45]]"
      ]
    },
    {
      "cell_type": "code",
      "execution_count": null,
      "id": "9df3ac3e",
      "metadata": {
        "id": "9df3ac3e",
        "outputId": "2dc34999-7620-4379-cb22-3a3df283f94c"
      },
      "outputs": [
        {
          "name": "stdout",
          "output_type": "stream",
          "text": [
            "     userid  age  dob_day  dob_year  dob_month  gender  tenure  friend_count  \\\n",
            "3   1203168   14       25      1999         12  female    93.0             0   \n",
            "5   1524765   14        1      1999         12    male    15.0             0   \n",
            "9   1712567   13        2      2000          2    male   171.0             0   \n",
            "45  1784528   14        8      1999          3    male     0.0             0   \n",
            "\n",
            "    friendships_initiated  likes  likes_received  mobile_likes  \\\n",
            "3                       0      0               0             0   \n",
            "5                       0      0               0             0   \n",
            "9                       0      0               0             0   \n",
            "45                      0      0               0             0   \n",
            "\n",
            "    mobile_likes_received  www_likes  www_likes_received  \n",
            "3                       0          0                   0  \n",
            "5                       0          0                   0  \n",
            "9                       0          0                   0  \n",
            "45                      0          0                   0  \n"
          ]
        }
      ],
      "source": [
        "print(dataset2)"
      ]
    },
    {
      "cell_type": "code",
      "execution_count": null,
      "id": "39bd121a",
      "metadata": {
        "id": "39bd121a",
        "outputId": "720e364f-4ce3-482c-b357-111cfc34ee8e"
      },
      "outputs": [
        {
          "data": {
            "text/plain": [
              "<bound method NDFrame.head of         userid  age  dob_day  dob_year  dob_month  gender  tenure  \\\n",
              "0      2094382   14       19      1999         11    male   266.0   \n",
              "1      1192601   14        2      1999         11  female     6.0   \n",
              "2      2083884   14       16      1999         11    male    13.0   \n",
              "3      1203168   14       25      1999         12  female    93.0   \n",
              "4      1733186   14        4      1999         12    male    82.0   \n",
              "...        ...  ...      ...       ...        ...     ...     ...   \n",
              "98998  1268299   68        4      1945          4  female   541.0   \n",
              "98999  1256153   18       12      1995          3  female    21.0   \n",
              "99000  1195943   15       10      1998          5  female   111.0   \n",
              "99001  1468023   23       11      1990          4  female   416.0   \n",
              "99002  1397896   39       15      1974          5  female   397.0   \n",
              "\n",
              "       friend_count  friendships_initiated  likes  likes_received  \\\n",
              "0                 0                      0      0               0   \n",
              "1                 0                      0      0               0   \n",
              "2                 0                      0      0               0   \n",
              "3                 0                      0      0               0   \n",
              "4                 0                      0      0               0   \n",
              "...             ...                    ...    ...             ...   \n",
              "98998          2118                    341   3996           18089   \n",
              "98999          1968                   1720   4401           13412   \n",
              "99000          2002                   1524  11959           12554   \n",
              "99001          2560                    185   4506            6516   \n",
              "99002          2049                    768   9410           12443   \n",
              "\n",
              "       mobile_likes  mobile_likes_received  www_likes  www_likes_received  \n",
              "0                 0                      0          0                   0  \n",
              "1                 0                      0          0                   0  \n",
              "2                 0                      0          0                   0  \n",
              "3                 0                      0          0                   0  \n",
              "4                 0                      0          0                   0  \n",
              "...             ...                    ...        ...                 ...  \n",
              "98998          3505                  11887        491                6202  \n",
              "98999          4399                  10592          2                2820  \n",
              "99000         11959                  11462          0                1092  \n",
              "99001          4506                   5760          0                 756  \n",
              "99002          9410                   9530          0                2913  \n",
              "\n",
              "[99003 rows x 15 columns]>"
            ]
          },
          "execution_count": 49,
          "metadata": {},
          "output_type": "execute_result"
        }
      ],
      "source": [
        "df.head"
      ]
    },
    {
      "cell_type": "code",
      "execution_count": null,
      "id": "bfef560c",
      "metadata": {
        "id": "bfef560c",
        "outputId": "09c326f2-98ef-4203-ca99-e6d11a67fd17"
      },
      "outputs": [
        {
          "data": {
            "text/plain": [
              "<bound method NDFrame.tail of         userid  age  dob_day  dob_year  dob_month  gender  tenure  \\\n",
              "0      2094382   14       19      1999         11    male   266.0   \n",
              "1      1192601   14        2      1999         11  female     6.0   \n",
              "2      2083884   14       16      1999         11    male    13.0   \n",
              "3      1203168   14       25      1999         12  female    93.0   \n",
              "4      1733186   14        4      1999         12    male    82.0   \n",
              "...        ...  ...      ...       ...        ...     ...     ...   \n",
              "98998  1268299   68        4      1945          4  female   541.0   \n",
              "98999  1256153   18       12      1995          3  female    21.0   \n",
              "99000  1195943   15       10      1998          5  female   111.0   \n",
              "99001  1468023   23       11      1990          4  female   416.0   \n",
              "99002  1397896   39       15      1974          5  female   397.0   \n",
              "\n",
              "       friend_count  friendships_initiated  likes  likes_received  \\\n",
              "0                 0                      0      0               0   \n",
              "1                 0                      0      0               0   \n",
              "2                 0                      0      0               0   \n",
              "3                 0                      0      0               0   \n",
              "4                 0                      0      0               0   \n",
              "...             ...                    ...    ...             ...   \n",
              "98998          2118                    341   3996           18089   \n",
              "98999          1968                   1720   4401           13412   \n",
              "99000          2002                   1524  11959           12554   \n",
              "99001          2560                    185   4506            6516   \n",
              "99002          2049                    768   9410           12443   \n",
              "\n",
              "       mobile_likes  mobile_likes_received  www_likes  www_likes_received  \n",
              "0                 0                      0          0                   0  \n",
              "1                 0                      0          0                   0  \n",
              "2                 0                      0          0                   0  \n",
              "3                 0                      0          0                   0  \n",
              "4                 0                      0          0                   0  \n",
              "...             ...                    ...        ...                 ...  \n",
              "98998          3505                  11887        491                6202  \n",
              "98999          4399                  10592          2                2820  \n",
              "99000         11959                  11462          0                1092  \n",
              "99001          4506                   5760          0                 756  \n",
              "99002          9410                   9530          0                2913  \n",
              "\n",
              "[99003 rows x 15 columns]>"
            ]
          },
          "execution_count": 50,
          "metadata": {},
          "output_type": "execute_result"
        }
      ],
      "source": [
        "df.tail"
      ]
    },
    {
      "cell_type": "code",
      "execution_count": null,
      "id": "055907ba",
      "metadata": {
        "id": "055907ba",
        "outputId": "f11c99d9-f99a-42e9-cf7f-dec48bd8a80c"
      },
      "outputs": [
        {
          "data": {
            "text/plain": [
              "Index(['userid', 'age', 'dob_day', 'dob_year', 'dob_month', 'gender', 'tenure',\n",
              "       'friend_count', 'friendships_initiated', 'likes', 'likes_received',\n",
              "       'mobile_likes', 'mobile_likes_received', 'www_likes',\n",
              "       'www_likes_received'],\n",
              "      dtype='object')"
            ]
          },
          "execution_count": 51,
          "metadata": {},
          "output_type": "execute_result"
        }
      ],
      "source": [
        "df.columns"
      ]
    },
    {
      "cell_type": "code",
      "execution_count": null,
      "id": "864a15f4",
      "metadata": {
        "id": "864a15f4"
      },
      "outputs": [],
      "source": [
        "d1 = pd.DataFrame({\"City\":[\"Mumbai\",\"Nashik\",\"Banglore\"] , \" temperature\":[\"24\", \"27\" ,\"30\"]})"
      ]
    },
    {
      "cell_type": "code",
      "execution_count": null,
      "id": "9b604ac6",
      "metadata": {
        "id": "9b604ac6",
        "outputId": "fee0d329-e76a-49b6-e8b7-0fee05ada386"
      },
      "outputs": [
        {
          "name": "stdout",
          "output_type": "stream",
          "text": [
            "       City  temperature\n",
            "0    Mumbai           24\n",
            "1    Nashik           27\n",
            "2  Banglore           30\n"
          ]
        }
      ],
      "source": [
        "print(d1)"
      ]
    },
    {
      "cell_type": "code",
      "execution_count": null,
      "id": "9305de48",
      "metadata": {
        "id": "9305de48"
      },
      "outputs": [],
      "source": [
        "d2 = pd.DataFrame({\"City\":[\"Mumbai\", \"Pune\", \"Nagpur\"], \"Temperature\":[\"24\", \"22\", \"19\"],})"
      ]
    },
    {
      "cell_type": "code",
      "execution_count": null,
      "id": "311f71f2",
      "metadata": {
        "id": "311f71f2",
        "outputId": "da9abc9a-21dc-48a5-9a2d-4a936baa5b8d"
      },
      "outputs": [
        {
          "name": "stdout",
          "output_type": "stream",
          "text": [
            "     City Temperature\n",
            "0  Mumbai          24\n",
            "1    Pune          22\n",
            "2  Nagpur          19\n"
          ]
        }
      ],
      "source": [
        "print(d2)"
      ]
    },
    {
      "cell_type": "code",
      "execution_count": null,
      "id": "48534a87",
      "metadata": {
        "id": "48534a87"
      },
      "outputs": [],
      "source": [
        "d4 = pd.DataFrame({\"Student Name\":[\"Pratham\",\"Mahesh\",\"Nayan\",\"Abhishek\"], \"Roll No\":[\"307A057\", \"307A063\", \"307A076\", \"307B015\"], \"Mobile No\":[\"9784556781\", \"9878654598\", \"8754659831\", \"7845983246\"], \"Age\":[\"20\", \"21\", \"19\",\"20\"],})"
      ]
    },
    {
      "cell_type": "code",
      "execution_count": null,
      "id": "9c3fbb75",
      "metadata": {
        "id": "9c3fbb75",
        "outputId": "1493776f-ebb3-4439-eef0-d8ea94c6bc67"
      },
      "outputs": [
        {
          "name": "stdout",
          "output_type": "stream",
          "text": [
            "  Student Name  Roll No   Mobile No Age\n",
            "0      Pratham  307A057  9784556781  20\n",
            "1       Mahesh  307A063  9878654598  21\n",
            "2        Nayan  307A076  8754659831  19\n",
            "3     Abhishek  307B015  7845983246  20\n"
          ]
        }
      ],
      "source": [
        "print(d4)"
      ]
    },
    {
      "cell_type": "code",
      "execution_count": null,
      "id": "5d2cf66e",
      "metadata": {
        "id": "5d2cf66e",
        "outputId": "2840b413-52d3-4c84-c6dd-ee19e63e2f49"
      },
      "outputs": [
        {
          "data": {
            "text/html": [
              "<div>\n",
              "<style scoped>\n",
              "    .dataframe tbody tr th:only-of-type {\n",
              "        vertical-align: middle;\n",
              "    }\n",
              "\n",
              "    .dataframe tbody tr th {\n",
              "        vertical-align: top;\n",
              "    }\n",
              "\n",
              "    .dataframe thead th {\n",
              "        text-align: right;\n",
              "    }\n",
              "</style>\n",
              "<table border=\"1\" class=\"dataframe\">\n",
              "  <thead>\n",
              "    <tr style=\"text-align: right;\">\n",
              "      <th></th>\n",
              "      <th>Student Name</th>\n",
              "      <th>Roll No</th>\n",
              "      <th>Mobile No</th>\n",
              "      <th>Age</th>\n",
              "    </tr>\n",
              "  </thead>\n",
              "  <tbody>\n",
              "    <tr>\n",
              "      <th>3</th>\n",
              "      <td>Abhishek</td>\n",
              "      <td>307B015</td>\n",
              "      <td>7845983246</td>\n",
              "      <td>20</td>\n",
              "    </tr>\n",
              "    <tr>\n",
              "      <th>1</th>\n",
              "      <td>Mahesh</td>\n",
              "      <td>307A063</td>\n",
              "      <td>9878654598</td>\n",
              "      <td>21</td>\n",
              "    </tr>\n",
              "    <tr>\n",
              "      <th>2</th>\n",
              "      <td>Nayan</td>\n",
              "      <td>307A076</td>\n",
              "      <td>8754659831</td>\n",
              "      <td>19</td>\n",
              "    </tr>\n",
              "    <tr>\n",
              "      <th>0</th>\n",
              "      <td>Pratham</td>\n",
              "      <td>307A057</td>\n",
              "      <td>9784556781</td>\n",
              "      <td>20</td>\n",
              "    </tr>\n",
              "  </tbody>\n",
              "</table>\n",
              "</div>"
            ],
            "text/plain": [
              "  Student Name  Roll No   Mobile No Age\n",
              "3     Abhishek  307B015  7845983246  20\n",
              "1       Mahesh  307A063  9878654598  21\n",
              "2        Nayan  307A076  8754659831  19\n",
              "0      Pratham  307A057  9784556781  20"
            ]
          },
          "execution_count": 58,
          "metadata": {},
          "output_type": "execute_result"
        }
      ],
      "source": [
        "d4.sort_values(\"Student Name\")"
      ]
    },
    {
      "cell_type": "code",
      "execution_count": null,
      "id": "1d505994",
      "metadata": {
        "id": "1d505994"
      },
      "outputs": [],
      "source": [
        "NewData = d4[[\"Student Name\", \"Mobile No\"]]"
      ]
    },
    {
      "cell_type": "code",
      "execution_count": null,
      "id": "a970b92b",
      "metadata": {
        "id": "a970b92b",
        "outputId": "53c3899a-0f17-452f-efbb-3d7c47650ad8"
      },
      "outputs": [
        {
          "name": "stdout",
          "output_type": "stream",
          "text": [
            "  Student Name   Mobile No\n",
            "0      Pratham  9784556781\n",
            "1       Mahesh  9878654598\n",
            "2        Nayan  8754659831\n",
            "3     Abhishek  7845983246\n"
          ]
        }
      ],
      "source": [
        "print(NewData)"
      ]
    },
    {
      "cell_type": "code",
      "execution_count": null,
      "id": "b7ce21d8",
      "metadata": {
        "id": "b7ce21d8"
      },
      "outputs": [],
      "source": [
        "d5 = pd.merge(d1, d2, on = \"City\")"
      ]
    },
    {
      "cell_type": "code",
      "execution_count": null,
      "id": "c5231c00",
      "metadata": {
        "id": "c5231c00",
        "outputId": "0074d817-9f94-470e-e30b-c79d49e4d299"
      },
      "outputs": [
        {
          "data": {
            "text/html": [
              "<div>\n",
              "<style scoped>\n",
              "    .dataframe tbody tr th:only-of-type {\n",
              "        vertical-align: middle;\n",
              "    }\n",
              "\n",
              "    .dataframe tbody tr th {\n",
              "        vertical-align: top;\n",
              "    }\n",
              "\n",
              "    .dataframe thead th {\n",
              "        text-align: right;\n",
              "    }\n",
              "</style>\n",
              "<table border=\"1\" class=\"dataframe\">\n",
              "  <thead>\n",
              "    <tr style=\"text-align: right;\">\n",
              "      <th></th>\n",
              "      <th>City</th>\n",
              "      <th>temperature</th>\n",
              "      <th>Temperature</th>\n",
              "    </tr>\n",
              "  </thead>\n",
              "  <tbody>\n",
              "    <tr>\n",
              "      <th>0</th>\n",
              "      <td>Mumbai</td>\n",
              "      <td>24</td>\n",
              "      <td>24</td>\n",
              "    </tr>\n",
              "  </tbody>\n",
              "</table>\n",
              "</div>"
            ],
            "text/plain": [
              "     City  temperature Temperature\n",
              "0  Mumbai           24          24"
            ]
          },
          "execution_count": 62,
          "metadata": {},
          "output_type": "execute_result"
        }
      ],
      "source": [
        "d5"
      ]
    },
    {
      "cell_type": "code",
      "execution_count": null,
      "id": "9a2a7308",
      "metadata": {
        "id": "9a2a7308"
      },
      "outputs": [],
      "source": [
        "d5 = pd.merge(d1, d2, on = \"City\", how = \"outer\")"
      ]
    },
    {
      "cell_type": "code",
      "execution_count": null,
      "id": "2930c46a",
      "metadata": {
        "id": "2930c46a",
        "outputId": "3c783eed-8a44-4cd6-c123-288ffb8e1dbe"
      },
      "outputs": [
        {
          "data": {
            "text/html": [
              "<div>\n",
              "<style scoped>\n",
              "    .dataframe tbody tr th:only-of-type {\n",
              "        vertical-align: middle;\n",
              "    }\n",
              "\n",
              "    .dataframe tbody tr th {\n",
              "        vertical-align: top;\n",
              "    }\n",
              "\n",
              "    .dataframe thead th {\n",
              "        text-align: right;\n",
              "    }\n",
              "</style>\n",
              "<table border=\"1\" class=\"dataframe\">\n",
              "  <thead>\n",
              "    <tr style=\"text-align: right;\">\n",
              "      <th></th>\n",
              "      <th>City</th>\n",
              "      <th>temperature</th>\n",
              "      <th>Temperature</th>\n",
              "    </tr>\n",
              "  </thead>\n",
              "  <tbody>\n",
              "    <tr>\n",
              "      <th>0</th>\n",
              "      <td>Mumbai</td>\n",
              "      <td>24</td>\n",
              "      <td>24</td>\n",
              "    </tr>\n",
              "    <tr>\n",
              "      <th>1</th>\n",
              "      <td>Nashik</td>\n",
              "      <td>27</td>\n",
              "      <td>NaN</td>\n",
              "    </tr>\n",
              "    <tr>\n",
              "      <th>2</th>\n",
              "      <td>Banglore</td>\n",
              "      <td>30</td>\n",
              "      <td>NaN</td>\n",
              "    </tr>\n",
              "    <tr>\n",
              "      <th>3</th>\n",
              "      <td>Pune</td>\n",
              "      <td>NaN</td>\n",
              "      <td>22</td>\n",
              "    </tr>\n",
              "    <tr>\n",
              "      <th>4</th>\n",
              "      <td>Nagpur</td>\n",
              "      <td>NaN</td>\n",
              "      <td>19</td>\n",
              "    </tr>\n",
              "  </tbody>\n",
              "</table>\n",
              "</div>"
            ],
            "text/plain": [
              "       City  temperature Temperature\n",
              "0    Mumbai           24          24\n",
              "1    Nashik           27         NaN\n",
              "2  Banglore           30         NaN\n",
              "3      Pune          NaN          22\n",
              "4    Nagpur          NaN          19"
            ]
          },
          "execution_count": 64,
          "metadata": {},
          "output_type": "execute_result"
        }
      ],
      "source": [
        "d5"
      ]
    },
    {
      "cell_type": "code",
      "execution_count": null,
      "id": "8ecf5539",
      "metadata": {
        "id": "8ecf5539"
      },
      "outputs": [],
      "source": [
        "d5 = pd.merge(d1, d2, on = \"City\", how = \"left\")"
      ]
    },
    {
      "cell_type": "code",
      "execution_count": null,
      "id": "b14e1235",
      "metadata": {
        "id": "b14e1235",
        "outputId": "1bee0a1c-2cff-416e-b603-64cab36e994b"
      },
      "outputs": [
        {
          "data": {
            "text/html": [
              "<div>\n",
              "<style scoped>\n",
              "    .dataframe tbody tr th:only-of-type {\n",
              "        vertical-align: middle;\n",
              "    }\n",
              "\n",
              "    .dataframe tbody tr th {\n",
              "        vertical-align: top;\n",
              "    }\n",
              "\n",
              "    .dataframe thead th {\n",
              "        text-align: right;\n",
              "    }\n",
              "</style>\n",
              "<table border=\"1\" class=\"dataframe\">\n",
              "  <thead>\n",
              "    <tr style=\"text-align: right;\">\n",
              "      <th></th>\n",
              "      <th>City</th>\n",
              "      <th>temperature</th>\n",
              "      <th>Temperature</th>\n",
              "    </tr>\n",
              "  </thead>\n",
              "  <tbody>\n",
              "    <tr>\n",
              "      <th>0</th>\n",
              "      <td>Mumbai</td>\n",
              "      <td>24</td>\n",
              "      <td>24</td>\n",
              "    </tr>\n",
              "    <tr>\n",
              "      <th>1</th>\n",
              "      <td>Nashik</td>\n",
              "      <td>27</td>\n",
              "      <td>NaN</td>\n",
              "    </tr>\n",
              "    <tr>\n",
              "      <th>2</th>\n",
              "      <td>Banglore</td>\n",
              "      <td>30</td>\n",
              "      <td>NaN</td>\n",
              "    </tr>\n",
              "  </tbody>\n",
              "</table>\n",
              "</div>"
            ],
            "text/plain": [
              "       City  temperature Temperature\n",
              "0    Mumbai           24          24\n",
              "1    Nashik           27         NaN\n",
              "2  Banglore           30         NaN"
            ]
          },
          "execution_count": 66,
          "metadata": {},
          "output_type": "execute_result"
        }
      ],
      "source": [
        "d5"
      ]
    },
    {
      "cell_type": "code",
      "execution_count": null,
      "id": "999f55ae",
      "metadata": {
        "id": "999f55ae"
      },
      "outputs": [],
      "source": [
        "d5 = pd.merge(d1, d2, on = \"City\", how = \"left\", indicator = \"float\")"
      ]
    },
    {
      "cell_type": "code",
      "execution_count": null,
      "id": "2e7c68f9",
      "metadata": {
        "id": "2e7c68f9",
        "outputId": "1ae33f71-7e91-47d6-d57d-e3a179b27e75"
      },
      "outputs": [
        {
          "data": {
            "text/html": [
              "<div>\n",
              "<style scoped>\n",
              "    .dataframe tbody tr th:only-of-type {\n",
              "        vertical-align: middle;\n",
              "    }\n",
              "\n",
              "    .dataframe tbody tr th {\n",
              "        vertical-align: top;\n",
              "    }\n",
              "\n",
              "    .dataframe thead th {\n",
              "        text-align: right;\n",
              "    }\n",
              "</style>\n",
              "<table border=\"1\" class=\"dataframe\">\n",
              "  <thead>\n",
              "    <tr style=\"text-align: right;\">\n",
              "      <th></th>\n",
              "      <th>City</th>\n",
              "      <th>temperature</th>\n",
              "      <th>Temperature</th>\n",
              "      <th>float</th>\n",
              "    </tr>\n",
              "  </thead>\n",
              "  <tbody>\n",
              "    <tr>\n",
              "      <th>0</th>\n",
              "      <td>Mumbai</td>\n",
              "      <td>24</td>\n",
              "      <td>24</td>\n",
              "      <td>both</td>\n",
              "    </tr>\n",
              "    <tr>\n",
              "      <th>1</th>\n",
              "      <td>Nashik</td>\n",
              "      <td>27</td>\n",
              "      <td>NaN</td>\n",
              "      <td>left_only</td>\n",
              "    </tr>\n",
              "    <tr>\n",
              "      <th>2</th>\n",
              "      <td>Banglore</td>\n",
              "      <td>30</td>\n",
              "      <td>NaN</td>\n",
              "      <td>left_only</td>\n",
              "    </tr>\n",
              "  </tbody>\n",
              "</table>\n",
              "</div>"
            ],
            "text/plain": [
              "       City  temperature Temperature      float\n",
              "0    Mumbai           24          24       both\n",
              "1    Nashik           27         NaN  left_only\n",
              "2  Banglore           30         NaN  left_only"
            ]
          },
          "execution_count": 68,
          "metadata": {},
          "output_type": "execute_result"
        }
      ],
      "source": [
        "d5\n"
      ]
    },
    {
      "cell_type": "code",
      "execution_count": null,
      "id": "32a72125",
      "metadata": {
        "id": "32a72125"
      },
      "outputs": [],
      "source": [
        "d5 = pd.merge(d1, d2, on = \"City\", how = \"left\", indicator = \"true\")"
      ]
    },
    {
      "cell_type": "code",
      "execution_count": null,
      "id": "59a4a6ba",
      "metadata": {
        "id": "59a4a6ba",
        "outputId": "b036e3a6-0667-44ec-ad5c-c94c8588850d"
      },
      "outputs": [
        {
          "data": {
            "text/html": [
              "<div>\n",
              "<style scoped>\n",
              "    .dataframe tbody tr th:only-of-type {\n",
              "        vertical-align: middle;\n",
              "    }\n",
              "\n",
              "    .dataframe tbody tr th {\n",
              "        vertical-align: top;\n",
              "    }\n",
              "\n",
              "    .dataframe thead th {\n",
              "        text-align: right;\n",
              "    }\n",
              "</style>\n",
              "<table border=\"1\" class=\"dataframe\">\n",
              "  <thead>\n",
              "    <tr style=\"text-align: right;\">\n",
              "      <th></th>\n",
              "      <th>City</th>\n",
              "      <th>temperature</th>\n",
              "      <th>Temperature</th>\n",
              "      <th>true</th>\n",
              "    </tr>\n",
              "  </thead>\n",
              "  <tbody>\n",
              "    <tr>\n",
              "      <th>0</th>\n",
              "      <td>Mumbai</td>\n",
              "      <td>24</td>\n",
              "      <td>24</td>\n",
              "      <td>both</td>\n",
              "    </tr>\n",
              "    <tr>\n",
              "      <th>1</th>\n",
              "      <td>Nashik</td>\n",
              "      <td>27</td>\n",
              "      <td>NaN</td>\n",
              "      <td>left_only</td>\n",
              "    </tr>\n",
              "    <tr>\n",
              "      <th>2</th>\n",
              "      <td>Banglore</td>\n",
              "      <td>30</td>\n",
              "      <td>NaN</td>\n",
              "      <td>left_only</td>\n",
              "    </tr>\n",
              "  </tbody>\n",
              "</table>\n",
              "</div>"
            ],
            "text/plain": [
              "       City  temperature Temperature       true\n",
              "0    Mumbai           24          24       both\n",
              "1    Nashik           27         NaN  left_only\n",
              "2  Banglore           30         NaN  left_only"
            ]
          },
          "execution_count": 70,
          "metadata": {},
          "output_type": "execute_result"
        }
      ],
      "source": [
        "d5"
      ]
    },
    {
      "cell_type": "code",
      "execution_count": null,
      "id": "128cd30b",
      "metadata": {
        "id": "128cd30b"
      },
      "outputs": [],
      "source": [
        "d6 = d5.stack()"
      ]
    },
    {
      "cell_type": "code",
      "execution_count": null,
      "id": "ccf36d9b",
      "metadata": {
        "id": "ccf36d9b",
        "outputId": "86577d9f-75da-4da8-e780-a71ca944dd8e"
      },
      "outputs": [
        {
          "data": {
            "text/plain": [
              "0  City               Mumbai\n",
              "    temperature           24\n",
              "   Temperature            24\n",
              "   true                 both\n",
              "1  City               Nashik\n",
              "    temperature           27\n",
              "   true            left_only\n",
              "2  City             Banglore\n",
              "    temperature           30\n",
              "   true            left_only\n",
              "dtype: object"
            ]
          },
          "execution_count": 72,
          "metadata": {},
          "output_type": "execute_result"
        }
      ],
      "source": [
        "d6"
      ]
    },
    {
      "cell_type": "code",
      "execution_count": null,
      "id": "c049bd85",
      "metadata": {
        "id": "c049bd85",
        "outputId": "985a4627-8c7a-43e0-b301-578df9c1c585"
      },
      "outputs": [
        {
          "data": {
            "text/html": [
              "<div>\n",
              "<style scoped>\n",
              "    .dataframe tbody tr th:only-of-type {\n",
              "        vertical-align: middle;\n",
              "    }\n",
              "\n",
              "    .dataframe tbody tr th {\n",
              "        vertical-align: top;\n",
              "    }\n",
              "\n",
              "    .dataframe thead th {\n",
              "        text-align: right;\n",
              "    }\n",
              "</style>\n",
              "<table border=\"1\" class=\"dataframe\">\n",
              "  <thead>\n",
              "    <tr style=\"text-align: right;\">\n",
              "      <th></th>\n",
              "      <th>City</th>\n",
              "      <th>temperature</th>\n",
              "      <th>Temperature</th>\n",
              "      <th>true</th>\n",
              "    </tr>\n",
              "  </thead>\n",
              "  <tbody>\n",
              "    <tr>\n",
              "      <th>0</th>\n",
              "      <td>Mumbai</td>\n",
              "      <td>24</td>\n",
              "      <td>24</td>\n",
              "      <td>both</td>\n",
              "    </tr>\n",
              "    <tr>\n",
              "      <th>1</th>\n",
              "      <td>Nashik</td>\n",
              "      <td>27</td>\n",
              "      <td>NaN</td>\n",
              "      <td>left_only</td>\n",
              "    </tr>\n",
              "    <tr>\n",
              "      <th>2</th>\n",
              "      <td>Banglore</td>\n",
              "      <td>30</td>\n",
              "      <td>NaN</td>\n",
              "      <td>left_only</td>\n",
              "    </tr>\n",
              "  </tbody>\n",
              "</table>\n",
              "</div>"
            ],
            "text/plain": [
              "       City  temperature Temperature       true\n",
              "0    Mumbai           24          24       both\n",
              "1    Nashik           27         NaN  left_only\n",
              "2  Banglore           30         NaN  left_only"
            ]
          },
          "execution_count": 73,
          "metadata": {},
          "output_type": "execute_result"
        }
      ],
      "source": [
        "d6.unstack()"
      ]
    },
    {
      "cell_type": "code",
      "execution_count": null,
      "id": "ea26df22",
      "metadata": {
        "id": "ea26df22"
      },
      "outputs": [],
      "source": [
        "d7 = d5.T"
      ]
    },
    {
      "cell_type": "code",
      "execution_count": null,
      "id": "6c970aed",
      "metadata": {
        "id": "6c970aed",
        "outputId": "9d584773-b4d7-4fce-c5e8-cbeeda768ff0"
      },
      "outputs": [
        {
          "data": {
            "text/html": [
              "<div>\n",
              "<style scoped>\n",
              "    .dataframe tbody tr th:only-of-type {\n",
              "        vertical-align: middle;\n",
              "    }\n",
              "\n",
              "    .dataframe tbody tr th {\n",
              "        vertical-align: top;\n",
              "    }\n",
              "\n",
              "    .dataframe thead th {\n",
              "        text-align: right;\n",
              "    }\n",
              "</style>\n",
              "<table border=\"1\" class=\"dataframe\">\n",
              "  <thead>\n",
              "    <tr style=\"text-align: right;\">\n",
              "      <th></th>\n",
              "      <th>0</th>\n",
              "      <th>1</th>\n",
              "      <th>2</th>\n",
              "    </tr>\n",
              "  </thead>\n",
              "  <tbody>\n",
              "    <tr>\n",
              "      <th>City</th>\n",
              "      <td>Mumbai</td>\n",
              "      <td>Nashik</td>\n",
              "      <td>Banglore</td>\n",
              "    </tr>\n",
              "    <tr>\n",
              "      <th>temperature</th>\n",
              "      <td>24</td>\n",
              "      <td>27</td>\n",
              "      <td>30</td>\n",
              "    </tr>\n",
              "    <tr>\n",
              "      <th>Temperature</th>\n",
              "      <td>24</td>\n",
              "      <td>NaN</td>\n",
              "      <td>NaN</td>\n",
              "    </tr>\n",
              "    <tr>\n",
              "      <th>true</th>\n",
              "      <td>both</td>\n",
              "      <td>left_only</td>\n",
              "      <td>left_only</td>\n",
              "    </tr>\n",
              "  </tbody>\n",
              "</table>\n",
              "</div>"
            ],
            "text/plain": [
              "                   0          1          2\n",
              "City          Mumbai     Nashik   Banglore\n",
              " temperature      24         27         30\n",
              "Temperature       24        NaN        NaN\n",
              "true            both  left_only  left_only"
            ]
          },
          "execution_count": 75,
          "metadata": {},
          "output_type": "execute_result"
        }
      ],
      "source": [
        "d7"
      ]
    },
    {
      "cell_type": "code",
      "execution_count": null,
      "id": "31cd536c",
      "metadata": {
        "id": "31cd536c"
      },
      "outputs": [],
      "source": []
    },
    {
      "cell_type": "code",
      "execution_count": null,
      "id": "6ab1abb0",
      "metadata": {
        "id": "6ab1abb0"
      },
      "outputs": [],
      "source": []
    }
  ],
  "metadata": {
    "kernelspec": {
      "display_name": "Python 3 (ipykernel)",
      "language": "python",
      "name": "python3"
    },
    "language_info": {
      "codemirror_mode": {
        "name": "ipython",
        "version": 3
      },
      "file_extension": ".py",
      "mimetype": "text/x-python",
      "name": "python",
      "nbconvert_exporter": "python",
      "pygments_lexer": "ipython3",
      "version": "3.7.9"
    },
    "colab": {
      "provenance": [],
      "include_colab_link": true
    }
  },
  "nbformat": 4,
  "nbformat_minor": 5
}